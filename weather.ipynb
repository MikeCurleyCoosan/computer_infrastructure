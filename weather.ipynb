{
 "cells": [
  {
   "cell_type": "markdown",
   "metadata": {},
   "source": [
    "# Task 8: weather.ipynb\n",
    "\n",
    "\n",
    ">Create a notebook called weather.ipynb at the root of your repository. In this notebook, write a brief report explaining how you completed Tasks 1 to 7. Provide short descriptions of the commands used in each task and explain their role in completing the tasks."
   ]
  },
  {
   "cell_type": "markdown",
   "metadata": {},
   "source": [
    "# Task 1. Create directory structure.\n",
    "\n",
    ">Using the command line, create a directory (that is, a folder) named data at the root of your repository. Inside data, create two subdirectories: timestamps and weather.\n",
    "\n",
    "In order to create a directory structure using the command line, the `mkdir` command is used. The `mkdir` command is used to make a new directory in the current location. For example if we are in the root of our system and type the `mkdir data` command, a new directory called data will be created at the root of our system. However, if we wish to create subdirectories we could do this using various different methods. \n",
    "\n",
    "Probably the simplest method would be to use the command line to change directory to the data directory by typing `cd data` command. The `cd` command is used to 'change directory', and will bring us into the data directory by typing `cd data` as previously mentioned. We then use the `mkdir` command inside this direcory to create the timestamps and weather directories one at a time.\n",
    "\n",
    "This is not the only way we could create directories and subdirectories. The `mkdir` command comes with various options or flags as they are sometimes called. The `-p` flag for example will create the parent directory, if it does not already exist followed by the child directory as specified while using the command. For example if we typed `mkdir -p data/weather` while in the root of our system, the parent directory data would be created in the root of our system, and the child direcory weather would be created inside this folder. We could then reuse this command again in the root of our system to create the timestamps folder by typing `mkdir -p data/timestamps`.\n",
    "\n",
    "We could also just create all the folders at one time. To do this we still use the `-p` flag, but this time we list the subdirectories inside curly braces, with no spaces between the directory names. Therefore, for our purposes, we can type `mkdir -p data/{weather,timestamps} to create the directory structure we require. "
   ]
  },
  {
   "cell_type": "markdown",
   "metadata": {},
   "source": [
    "# Task 2. Timestamps\n",
    "\n",
    ">Navigate to the data/timestamps directory. Use the date command to output the current date and time, appending the output to a file named now.txt. Make sure to use the >> operator to append (not overwrite) the file. Repeat this step ten times, then use the more command to verify that now.txt has the expected content.\n",
    "\n",
    "The date command will display the day, date, time and timezone when it is run as shown below.\n",
    "\n",
    "![date command](./images/date.PNG)\n",
    "\n",
    "The output of a command can be appended to a file with the redirect operator, `>>`. If the file does not exist a new file will be created. To append the date and time to a file the syntax is: `date >> <filename>` where \\<filename\\> is the name of the file to create/append too, as shown in the image below. It should be noted that there are other redirect operators also. For example there is a \n",
    "\n",
    "![now.txt](./images/now.PNG)\n",
    "\n",
    "The date command was run 10 times as directed and the output was appended to now.txt. We can view the contents of this file by using the `more` command. The results of this are shown below.\n",
    "\n",
    "![more](./images/more.png)\n",
    "\n",
    "\n",
    "\n",
    "\n",
    "\n"
   ]
  },
  {
   "cell_type": "markdown",
   "metadata": {},
   "source": [
    "# Task 3: Formatting Timestamps\n",
    "\n",
    "> Run the date command again, but this time format the output using YYYYmmdd_HHMMSS (e.g., 20261114_130003 for 1:00:03 PM on November 14, 2026). Refer to the date man page (using man date) for more formatting options. (Press q to exit the man page). Append the formatted output to a file named formatted.txt.\n",
    "\n",
    "Some of the most popular formatting options are given in the table below. For example to format the weekday as the abbreviated weekday name (Mon, Tue, Wed etc) the format sequence %a is used. To format the weekday as locale's full name (Monday, Tuesday, Wednesay etc) the format sequence %A is used. To format the weekday as a number %w is used, where 0 is Sunday and 6 is Saturday.   To see all the options refer to the manual pages for the date command, by typing `man date` in the command line as shown below also.\n",
    "\n",
    "\n",
    "![man date](./images/man_date.PNG)\n",
    "\n",
    "|Directive | Meaning |\n",
    "| --- | --- |\n",
    "| `%a` | Weekday as locale's abbreviated name |\n",
    "| `%A` | Weekday as locale's full name |\n",
    "| `%w` | Weekday as decimal number, where 0 is Sunday and 6 is Saturday |\n",
    "| `%d` | Day of the month as a zero-padded decimal number [01, 02, ..., 30, 31] |\n",
    "| `%b` | Month as locale's abbreviated name |\n",
    "| `%B` | Weekday as locale's full name |\n",
    "| `%m` | Month as zero-padded decimal number [01, 02, ..., 11, 12] |\n",
    "| `%y` | Year without century as a zero-padded decimal number name [0001, ..., 2019, 2020, ..., 9999] |\n",
    "| `%Y` | Year with century as a decimal number  |\n",
    "| `%H` | Hour (24-hour clock) as a zero-padded decimal number [00, 01, ..., 22, 23] |\n",
    "| `%I` | Hour (12-hour clock) as a zero-padded decimal number |\n",
    "| `%p` | Locale equivalent of either AM or PM |\n",
    "| `%M` | Minute as a zero-padded decimal number [00, 01, ..., 58, 59]|\n",
    "| `%S` | Second as a zero-padded decimal number [00, 01, ..., 58, 59]|\n",
    "| `%f` | Microsecond as a zero-padded decimal number |\n",
    "| `%j` | Day of the year as a zero-padded decimal number |\n",
    "| `%W` | Week number of the year (Monday as the first day of the week) as a decimal number |\n",
    "| `%U` | Week number of the year (Sunday as the first day of the week) as a decimal number |\n",
    "| `%c` | Locale’s appropriate date and time representation |\n",
    "| `%Z` | Time zone name |\n",
    "| `%z` | UTC offset in the form HH[SS[.fffff]] |\n",
    "\n",
    "\n",
    "For this task the date should be formatted as YYYYmmdd_HHMMSS and the format for this using the table above is %Y%m%d_%H%M%S. This is completed step by step in the terminal window below. Firstly we change directory to the timestamps folder. Next redirect the output of the `date +\"%Y%m%d_%H%M%S\"` using the redirect `>>` command, to the formatted.txt file (if it exists) using the `date +\"%Y%m%d_%H%M%S\" >> formatted.txt` command. We can then view this using the `more` command by using the `more formatted.txt`\n",
    "\n",
    "![formatted.txt](./images/formatted.PNG)"
   ]
  },
  {
   "cell_type": "markdown",
   "metadata": {},
   "source": [
    "# Task 9: Pandas\n",
    "\n",
    ">In your weather.ipynb notebook, use the pandas function read_json() to load in any one of the weather data files you have downloaded with your script. Examine and summarize the data. Use the information provided data.gov.ie to write a short explanation of what the data set contains"
   ]
  },
  {
   "cell_type": "code",
   "execution_count": 1,
   "metadata": {},
   "outputs": [],
   "source": [
    "#imimport pandas as pd\n",
    "import pandas as pd\n",
    "import numpy as np\n",
    "import matplotlib.pyplot as plt\n",
    "import seaborn as snsport\n"
   ]
  },
  {
   "cell_type": "markdown",
   "metadata": {},
   "source": [
    "# Collecting the data\n",
    "\n",
    "The following code outputs the filename used to store the data file.\n",
    "```bash\n",
    "date +\"%Y%m%d_%H%M%S_athenry.json\n",
    "```\n",
    "The `%Y` is replaced by the four-digit year (e.g. 2024)."
   ]
  },
  {
   "cell_type": "markdown",
   "metadata": {},
   "source": [
    "# Read the data.\n",
    "df = pd.read_json('data/weather/20241104_141508_athenry.json')"
   ]
  }
 ],
 "metadata": {
  "kernelspec": {
   "display_name": "base",
   "language": "python",
   "name": "python3"
  },
  "language_info": {
   "codemirror_mode": {
    "name": "ipython",
    "version": 3
   },
   "file_extension": ".py",
   "mimetype": "text/x-python",
   "name": "python",
   "nbconvert_exporter": "python",
   "pygments_lexer": "ipython3",
   "version": "3.11.5"
  }
 },
 "nbformat": 4,
 "nbformat_minor": 2
}
