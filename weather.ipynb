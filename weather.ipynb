{
 "cells": [
  {
   "cell_type": "markdown",
   "metadata": {},
   "source": [
    "# Task 8: weather.ipynb\n",
    "\n",
    "\n",
    ">Create a notebook called weather.ipynb at the root of your repository. In this notebook, write a brief report explaining how you completed Tasks 1 to 7. Provide short descriptions of the commands used in each task and explain their role in completing the tasks."
   ]
  },
  {
   "cell_type": "markdown",
   "metadata": {},
   "source": [
    "# Task 1. Create directory structure.\n",
    "\n",
    ">Using the command line, create a directory (that is, a folder) named data at the root of your repository. Inside data, create two subdirectories: timestamps and weather.\n",
    "\n",
    "In order to create a directory structure using the command line, the `mkdir` command is used. The `mkdir` command is used to make a new directory in the current location. For example if we are in the root of our system and type the `mkdir data` command, a new directory called data will be created at the root of our system. However, if we wish to create subdirectories we could do this using various different methods. \n",
    "\n",
    "Probably the simplest method would be to use the command line to change directory to the data directory by typing `cd data` command. The `cd` command is used to 'change directory', and will bring us into the data directory by typing `cd data` as previously mentioned. We then use the `mkdir` command inside this direcory to create the timestamps and weather directories one at a time.\n",
    "\n",
    "This is not the only way we could create directories and subdirectories. The `mkdir` command comes with various options or flags as they are sometimes called. The `-p` flag for example will create the parent directory, if it does not already exist followed by the child directory as specified while using the command. For example if we typed `mkdir -p data/weather` while in the root of our system, the parent directory data would be created in the root of our system, and the child direcory weather would be created inside this folder. We could then reuse this command again in the root of our system to create the timestamps folder by typing `mkdir -p data/timestamps`.\n",
    "\n",
    "We could also just create all the folder at one time. To do this we still use the `-p` flag, but this time we list the subdirectories inside curly braces, with no spaces between the directory names. Therefore, for our purposes, we can type `mkdir -p data/{weather,timestamps} to create the directory structure we require. "
   ]
  },
  {
   "cell_type": "markdown",
   "metadata": {},
   "source": []
  }
 ],
 "metadata": {
  "language_info": {
   "name": "python"
  }
 },
 "nbformat": 4,
 "nbformat_minor": 2
}
